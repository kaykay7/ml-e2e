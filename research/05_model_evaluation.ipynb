{
 "cells": [
  {
   "cell_type": "code",
   "execution_count": 13,
   "metadata": {},
   "outputs": [],
   "source": [
    "import os"
   ]
  },
  {
   "cell_type": "code",
   "execution_count": 14,
   "metadata": {},
   "outputs": [
    {
     "data": {
      "text/plain": [
       "'/Users/kunalkamdar/Documents/IK-2023/MLOps/MLops-Deployment&INference/MLOpsDemo/Demo8-CICD-MLOps/ml-e2e/research'"
      ]
     },
     "execution_count": 14,
     "metadata": {},
     "output_type": "execute_result"
    }
   ],
   "source": [
    "%pwd"
   ]
  },
  {
   "cell_type": "code",
   "execution_count": 15,
   "metadata": {},
   "outputs": [],
   "source": [
    "os.chdir(\"../\")"
   ]
  },
  {
   "cell_type": "code",
   "execution_count": 16,
   "metadata": {},
   "outputs": [
    {
     "data": {
      "text/plain": [
       "'/Users/kunalkamdar/Documents/IK-2023/MLOps/MLops-Deployment&INference/MLOpsDemo/Demo8-CICD-MLOps/ml-e2e'"
      ]
     },
     "execution_count": 16,
     "metadata": {},
     "output_type": "execute_result"
    }
   ],
   "source": [
    "%pwd"
   ]
  },
  {
   "cell_type": "code",
   "execution_count": 17,
   "metadata": {},
   "outputs": [
    {
     "name": "stdout",
     "output_type": "stream",
     "text": [
      "Requirement already satisfied: dagshub in ./venv/lib/python3.9/site-packages (0.4.2)\n",
      "Requirement already satisfied: PyYAML>=5 in ./venv/lib/python3.9/site-packages (from dagshub) (6.0.2)\n",
      "Requirement already satisfied: appdirs>=1.4.4 in ./venv/lib/python3.9/site-packages (from dagshub) (1.4.4)\n",
      "Requirement already satisfied: click>=8.0.4 in ./venv/lib/python3.9/site-packages (from dagshub) (8.1.8)\n",
      "Requirement already satisfied: httpx>=0.23.0 in ./venv/lib/python3.9/site-packages (from dagshub) (0.28.1)\n",
      "Requirement already satisfied: GitPython>=3.1.29 in ./venv/lib/python3.9/site-packages (from dagshub) (3.1.43)\n",
      "Requirement already satisfied: rich>=13.1.0 in ./venv/lib/python3.9/site-packages (from dagshub) (13.9.4)\n",
      "Requirement already satisfied: dacite~=1.6.0 in ./venv/lib/python3.9/site-packages (from dagshub) (1.6.0)\n",
      "Requirement already satisfied: tenacity>=8.2.2 in ./venv/lib/python3.9/site-packages (from dagshub) (9.0.0)\n",
      "Requirement already satisfied: gql[requests] in ./venv/lib/python3.9/site-packages (from dagshub) (3.5.0)\n",
      "Requirement already satisfied: dataclasses-json in ./venv/lib/python3.9/site-packages (from dagshub) (0.6.7)\n",
      "Requirement already satisfied: pandas in ./venv/lib/python3.9/site-packages (from dagshub) (2.2.3)\n",
      "Requirement already satisfied: treelib>=1.6.4 in ./venv/lib/python3.9/site-packages (from dagshub) (1.7.0)\n",
      "Requirement already satisfied: pathvalidate>=3.0.0 in ./venv/lib/python3.9/site-packages (from dagshub) (3.2.2)\n",
      "Requirement already satisfied: python-dateutil in ./venv/lib/python3.9/site-packages (from dagshub) (2.9.0.post0)\n",
      "Requirement already satisfied: boto3 in ./venv/lib/python3.9/site-packages (from dagshub) (1.35.91)\n",
      "Requirement already satisfied: dagshub-annotation-converter>=0.1.0 in ./venv/lib/python3.9/site-packages (from dagshub) (0.1.2)\n",
      "Requirement already satisfied: lxml in ./venv/lib/python3.9/site-packages (from dagshub-annotation-converter>=0.1.0->dagshub) (5.3.0)\n",
      "Requirement already satisfied: pillow in ./venv/lib/python3.9/site-packages (from dagshub-annotation-converter>=0.1.0->dagshub) (11.0.0)\n",
      "Requirement already satisfied: pydantic>=2.0.0 in ./venv/lib/python3.9/site-packages (from dagshub-annotation-converter>=0.1.0->dagshub) (2.10.4)\n",
      "Requirement already satisfied: typing-extensions in ./venv/lib/python3.9/site-packages (from dagshub-annotation-converter>=0.1.0->dagshub) (4.12.2)\n",
      "Requirement already satisfied: gitdb<5,>=4.0.1 in ./venv/lib/python3.9/site-packages (from GitPython>=3.1.29->dagshub) (4.0.11)\n",
      "Requirement already satisfied: anyio in ./venv/lib/python3.9/site-packages (from httpx>=0.23.0->dagshub) (4.7.0)\n",
      "Requirement already satisfied: certifi in ./venv/lib/python3.9/site-packages (from httpx>=0.23.0->dagshub) (2024.12.14)\n",
      "Requirement already satisfied: httpcore==1.* in ./venv/lib/python3.9/site-packages (from httpx>=0.23.0->dagshub) (1.0.7)\n",
      "Requirement already satisfied: idna in ./venv/lib/python3.9/site-packages (from httpx>=0.23.0->dagshub) (3.10)\n",
      "Requirement already satisfied: h11<0.15,>=0.13 in ./venv/lib/python3.9/site-packages (from httpcore==1.*->httpx>=0.23.0->dagshub) (0.14.0)\n",
      "Requirement already satisfied: markdown-it-py>=2.2.0 in ./venv/lib/python3.9/site-packages (from rich>=13.1.0->dagshub) (3.0.0)\n",
      "Requirement already satisfied: pygments<3.0.0,>=2.13.0 in ./venv/lib/python3.9/site-packages (from rich>=13.1.0->dagshub) (2.18.0)\n",
      "Requirement already satisfied: six in ./venv/lib/python3.9/site-packages (from treelib>=1.6.4->dagshub) (1.17.0)\n",
      "Requirement already satisfied: botocore<1.36.0,>=1.35.91 in ./venv/lib/python3.9/site-packages (from boto3->dagshub) (1.35.91)\n",
      "Requirement already satisfied: jmespath<2.0.0,>=0.7.1 in ./venv/lib/python3.9/site-packages (from boto3->dagshub) (1.0.1)\n",
      "Requirement already satisfied: s3transfer<0.11.0,>=0.10.0 in ./venv/lib/python3.9/site-packages (from boto3->dagshub) (0.10.4)\n",
      "Requirement already satisfied: marshmallow<4.0.0,>=3.18.0 in ./venv/lib/python3.9/site-packages (from dataclasses-json->dagshub) (3.23.2)\n",
      "Requirement already satisfied: typing-inspect<1,>=0.4.0 in ./venv/lib/python3.9/site-packages (from dataclasses-json->dagshub) (0.9.0)\n",
      "Requirement already satisfied: graphql-core<3.3,>=3.2 in ./venv/lib/python3.9/site-packages (from gql[requests]->dagshub) (3.2.5)\n",
      "Requirement already satisfied: yarl<2.0,>=1.6 in ./venv/lib/python3.9/site-packages (from gql[requests]->dagshub) (1.18.3)\n",
      "Requirement already satisfied: backoff<3.0,>=1.11.1 in ./venv/lib/python3.9/site-packages (from gql[requests]->dagshub) (2.2.1)\n",
      "Requirement already satisfied: requests<3,>=2.26 in ./venv/lib/python3.9/site-packages (from gql[requests]->dagshub) (2.32.3)\n",
      "Requirement already satisfied: requests-toolbelt<2,>=1.0.0 in ./venv/lib/python3.9/site-packages (from gql[requests]->dagshub) (1.0.0)\n",
      "Requirement already satisfied: numpy>=1.22.4 in ./venv/lib/python3.9/site-packages (from pandas->dagshub) (1.26.4)\n",
      "Requirement already satisfied: pytz>=2020.1 in ./venv/lib/python3.9/site-packages (from pandas->dagshub) (2022.7.1)\n",
      "Requirement already satisfied: tzdata>=2022.7 in ./venv/lib/python3.9/site-packages (from pandas->dagshub) (2024.2)\n",
      "Requirement already satisfied: exceptiongroup>=1.0.2 in ./venv/lib/python3.9/site-packages (from anyio->httpx>=0.23.0->dagshub) (1.2.2)\n",
      "Requirement already satisfied: sniffio>=1.1 in ./venv/lib/python3.9/site-packages (from anyio->httpx>=0.23.0->dagshub) (1.3.1)\n",
      "Requirement already satisfied: urllib3<1.27,>=1.25.4 in ./venv/lib/python3.9/site-packages (from botocore<1.36.0,>=1.35.91->boto3->dagshub) (1.26.20)\n",
      "Requirement already satisfied: smmap<6,>=3.0.1 in ./venv/lib/python3.9/site-packages (from gitdb<5,>=4.0.1->GitPython>=3.1.29->dagshub) (5.0.1)\n",
      "Requirement already satisfied: mdurl~=0.1 in ./venv/lib/python3.9/site-packages (from markdown-it-py>=2.2.0->rich>=13.1.0->dagshub) (0.1.2)\n",
      "Requirement already satisfied: packaging>=17.0 in ./venv/lib/python3.9/site-packages (from marshmallow<4.0.0,>=3.18.0->dataclasses-json->dagshub) (23.2)\n",
      "Requirement already satisfied: annotated-types>=0.6.0 in ./venv/lib/python3.9/site-packages (from pydantic>=2.0.0->dagshub-annotation-converter>=0.1.0->dagshub) (0.7.0)\n",
      "Requirement already satisfied: pydantic-core==2.27.2 in ./venv/lib/python3.9/site-packages (from pydantic>=2.0.0->dagshub-annotation-converter>=0.1.0->dagshub) (2.27.2)\n",
      "Requirement already satisfied: charset-normalizer<4,>=2 in ./venv/lib/python3.9/site-packages (from requests<3,>=2.26->gql[requests]->dagshub) (3.4.1)\n",
      "Requirement already satisfied: mypy-extensions>=0.3.0 in ./venv/lib/python3.9/site-packages (from typing-inspect<1,>=0.4.0->dataclasses-json->dagshub) (1.0.0)\n",
      "Requirement already satisfied: multidict>=4.0 in ./venv/lib/python3.9/site-packages (from yarl<2.0,>=1.6->gql[requests]->dagshub) (6.1.0)\n",
      "Requirement already satisfied: propcache>=0.2.0 in ./venv/lib/python3.9/site-packages (from yarl<2.0,>=1.6->gql[requests]->dagshub) (0.2.1)\n",
      "Note: you may need to restart the kernel to use updated packages.\n"
     ]
    }
   ],
   "source": [
    "pip install dagshub"
   ]
  },
  {
   "cell_type": "code",
   "execution_count": 19,
   "metadata": {},
   "outputs": [
    {
     "name": "stdout",
     "output_type": "stream",
     "text": [
      "[2025-01-02 18:45:40,461: INFO: _client: HTTP Request: GET https://dagshub.com/api/v1/repos/kaykay7/ml-e2e \"HTTP/1.1 200 OK\"]\n"
     ]
    },
    {
     "data": {
      "text/html": [
       "<pre style=\"white-space:pre;overflow-x:auto;line-height:normal;font-family:Menlo,'DejaVu Sans Mono',consolas,'Courier New',monospace\">Initialized MLflow to track repo <span style=\"color: #008000; text-decoration-color: #008000\">\"kaykay7/ml-e2e\"</span>\n",
       "</pre>\n"
      ],
      "text/plain": [
       "Initialized MLflow to track repo \u001b[32m\"kaykay7/ml-e2e\"\u001b[0m\n"
      ]
     },
     "metadata": {},
     "output_type": "display_data"
    },
    {
     "name": "stdout",
     "output_type": "stream",
     "text": [
      "[2025-01-02 18:45:40,469: INFO: helpers: Initialized MLflow to track repo \"kaykay7/ml-e2e\"]\n"
     ]
    },
    {
     "data": {
      "text/html": [
       "<pre style=\"white-space:pre;overflow-x:auto;line-height:normal;font-family:Menlo,'DejaVu Sans Mono',consolas,'Courier New',monospace\">Repository kaykay7/ml-e2e initialized!\n",
       "</pre>\n"
      ],
      "text/plain": [
       "Repository kaykay7/ml-e2e initialized!\n"
      ]
     },
     "metadata": {},
     "output_type": "display_data"
    },
    {
     "name": "stdout",
     "output_type": "stream",
     "text": [
      "[2025-01-02 18:45:40,471: INFO: helpers: Repository kaykay7/ml-e2e initialized!]\n"
     ]
    }
   ],
   "source": [
    "import dagshub\n",
    "dagshub.init(repo_owner='kaykay7', repo_name='ml-e2e', mlflow=True)\n",
    "\n",
    "import mlflow\n",
    "with mlflow.start_run():\n",
    "  mlflow.log_param('parameter name', 'value')\n",
    "  mlflow.log_metric('metric name', 1)"
   ]
  },
  {
   "cell_type": "code",
   "execution_count": 7,
   "metadata": {},
   "outputs": [
    {
     "name": "stdout",
     "output_type": "stream",
     "text": [
      "Requirement already satisfied: mlflow in ./venv/lib/python3.9/site-packages (2.2.2)\n",
      "Requirement already satisfied: click<9,>=7.0 in ./venv/lib/python3.9/site-packages (from mlflow) (8.1.8)\n",
      "Requirement already satisfied: cloudpickle<3 in ./venv/lib/python3.9/site-packages (from mlflow) (2.2.1)\n",
      "Requirement already satisfied: databricks-cli<1,>=0.8.7 in ./venv/lib/python3.9/site-packages (from mlflow) (0.18.0)\n",
      "Requirement already satisfied: entrypoints<1 in ./venv/lib/python3.9/site-packages (from mlflow) (0.4)\n",
      "Requirement already satisfied: gitpython<4,>=2.1.0 in ./venv/lib/python3.9/site-packages (from mlflow) (3.1.43)\n",
      "Requirement already satisfied: pyyaml<7,>=5.1 in ./venv/lib/python3.9/site-packages (from mlflow) (6.0.2)\n",
      "Requirement already satisfied: protobuf<5,>=3.12.0 in ./venv/lib/python3.9/site-packages (from mlflow) (4.25.5)\n",
      "Requirement already satisfied: pytz<2023 in ./venv/lib/python3.9/site-packages (from mlflow) (2022.7.1)\n",
      "Requirement already satisfied: requests<3,>=2.17.3 in ./venv/lib/python3.9/site-packages (from mlflow) (2.32.3)\n",
      "Requirement already satisfied: packaging<24 in ./venv/lib/python3.9/site-packages (from mlflow) (23.2)\n",
      "Requirement already satisfied: importlib-metadata!=4.7.0,<7,>=3.7.0 in ./venv/lib/python3.9/site-packages (from mlflow) (6.11.0)\n",
      "Requirement already satisfied: sqlparse<1,>=0.4.0 in ./venv/lib/python3.9/site-packages (from mlflow) (0.5.3)\n",
      "Requirement already satisfied: alembic<2 in ./venv/lib/python3.9/site-packages (from mlflow) (1.14.0)\n",
      "Requirement already satisfied: docker<7,>=4.0.0 in ./venv/lib/python3.9/site-packages (from mlflow) (6.1.3)\n",
      "Requirement already satisfied: Flask<3 in ./venv/lib/python3.9/site-packages (from mlflow) (2.3.3)\n",
      "Requirement already satisfied: numpy<2 in ./venv/lib/python3.9/site-packages (from mlflow) (1.26.4)\n",
      "Requirement already satisfied: scipy<2 in ./venv/lib/python3.9/site-packages (from mlflow) (1.13.1)\n",
      "Requirement already satisfied: pandas<3 in ./venv/lib/python3.9/site-packages (from mlflow) (2.2.3)\n",
      "Requirement already satisfied: querystring-parser<2 in ./venv/lib/python3.9/site-packages (from mlflow) (1.2.4)\n",
      "Requirement already satisfied: sqlalchemy<3,>=1.4.0 in ./venv/lib/python3.9/site-packages (from mlflow) (2.0.36)\n",
      "Requirement already satisfied: scikit-learn<2 in ./venv/lib/python3.9/site-packages (from mlflow) (1.6.0)\n",
      "Requirement already satisfied: pyarrow<12,>=4.0.0 in ./venv/lib/python3.9/site-packages (from mlflow) (11.0.0)\n",
      "Requirement already satisfied: shap<1,>=0.40 in ./venv/lib/python3.9/site-packages (from mlflow) (0.46.0)\n",
      "Requirement already satisfied: markdown<4,>=3.3 in ./venv/lib/python3.9/site-packages (from mlflow) (3.7)\n",
      "Requirement already satisfied: matplotlib<4 in ./venv/lib/python3.9/site-packages (from mlflow) (3.9.4)\n",
      "Requirement already satisfied: gunicorn<21 in ./venv/lib/python3.9/site-packages (from mlflow) (20.1.0)\n",
      "Requirement already satisfied: Jinja2<4,>=2.11 in ./venv/lib/python3.9/site-packages (from mlflow) (3.1.5)\n",
      "Requirement already satisfied: Mako in ./venv/lib/python3.9/site-packages (from alembic<2->mlflow) (1.3.8)\n",
      "Requirement already satisfied: typing-extensions>=4 in ./venv/lib/python3.9/site-packages (from alembic<2->mlflow) (4.12.2)\n",
      "Requirement already satisfied: pyjwt>=1.7.0 in ./venv/lib/python3.9/site-packages (from databricks-cli<1,>=0.8.7->mlflow) (2.10.1)\n",
      "Requirement already satisfied: oauthlib>=3.1.0 in ./venv/lib/python3.9/site-packages (from databricks-cli<1,>=0.8.7->mlflow) (3.2.2)\n",
      "Requirement already satisfied: tabulate>=0.7.7 in ./venv/lib/python3.9/site-packages (from databricks-cli<1,>=0.8.7->mlflow) (0.9.0)\n",
      "Requirement already satisfied: six>=1.10.0 in ./venv/lib/python3.9/site-packages (from databricks-cli<1,>=0.8.7->mlflow) (1.17.0)\n",
      "Requirement already satisfied: urllib3<3,>=1.26.7 in ./venv/lib/python3.9/site-packages (from databricks-cli<1,>=0.8.7->mlflow) (1.26.20)\n",
      "Requirement already satisfied: websocket-client>=0.32.0 in ./venv/lib/python3.9/site-packages (from docker<7,>=4.0.0->mlflow) (1.8.0)\n",
      "Requirement already satisfied: Werkzeug>=2.3.7 in ./venv/lib/python3.9/site-packages (from Flask<3->mlflow) (3.1.3)\n",
      "Requirement already satisfied: itsdangerous>=2.1.2 in ./venv/lib/python3.9/site-packages (from Flask<3->mlflow) (2.2.0)\n",
      "Requirement already satisfied: blinker>=1.6.2 in ./venv/lib/python3.9/site-packages (from Flask<3->mlflow) (1.9.0)\n",
      "Requirement already satisfied: gitdb<5,>=4.0.1 in ./venv/lib/python3.9/site-packages (from gitpython<4,>=2.1.0->mlflow) (4.0.11)\n",
      "Requirement already satisfied: setuptools>=3.0 in ./venv/lib/python3.9/site-packages (from gunicorn<21->mlflow) (75.6.0)\n",
      "Requirement already satisfied: zipp>=0.5 in ./venv/lib/python3.9/site-packages (from importlib-metadata!=4.7.0,<7,>=3.7.0->mlflow) (3.21.0)\n",
      "Requirement already satisfied: MarkupSafe>=2.0 in ./venv/lib/python3.9/site-packages (from Jinja2<4,>=2.11->mlflow) (3.0.2)\n",
      "Requirement already satisfied: contourpy>=1.0.1 in ./venv/lib/python3.9/site-packages (from matplotlib<4->mlflow) (1.3.0)\n",
      "Requirement already satisfied: cycler>=0.10 in ./venv/lib/python3.9/site-packages (from matplotlib<4->mlflow) (0.12.1)\n",
      "Requirement already satisfied: fonttools>=4.22.0 in ./venv/lib/python3.9/site-packages (from matplotlib<4->mlflow) (4.55.3)\n",
      "Requirement already satisfied: kiwisolver>=1.3.1 in ./venv/lib/python3.9/site-packages (from matplotlib<4->mlflow) (1.4.7)\n",
      "Requirement already satisfied: pillow>=8 in ./venv/lib/python3.9/site-packages (from matplotlib<4->mlflow) (11.0.0)\n",
      "Requirement already satisfied: pyparsing>=2.3.1 in ./venv/lib/python3.9/site-packages (from matplotlib<4->mlflow) (3.2.0)\n",
      "Requirement already satisfied: python-dateutil>=2.7 in ./venv/lib/python3.9/site-packages (from matplotlib<4->mlflow) (2.9.0.post0)\n",
      "Requirement already satisfied: importlib-resources>=3.2.0 in ./venv/lib/python3.9/site-packages (from matplotlib<4->mlflow) (6.4.5)\n",
      "Requirement already satisfied: tzdata>=2022.7 in ./venv/lib/python3.9/site-packages (from pandas<3->mlflow) (2024.2)\n",
      "Requirement already satisfied: charset-normalizer<4,>=2 in ./venv/lib/python3.9/site-packages (from requests<3,>=2.17.3->mlflow) (3.4.1)\n",
      "Requirement already satisfied: idna<4,>=2.5 in ./venv/lib/python3.9/site-packages (from requests<3,>=2.17.3->mlflow) (3.10)\n",
      "Requirement already satisfied: certifi>=2017.4.17 in ./venv/lib/python3.9/site-packages (from requests<3,>=2.17.3->mlflow) (2024.12.14)\n",
      "Requirement already satisfied: joblib>=1.2.0 in ./venv/lib/python3.9/site-packages (from scikit-learn<2->mlflow) (1.4.2)\n",
      "Requirement already satisfied: threadpoolctl>=3.1.0 in ./venv/lib/python3.9/site-packages (from scikit-learn<2->mlflow) (3.5.0)\n",
      "Requirement already satisfied: tqdm>=4.27.0 in ./venv/lib/python3.9/site-packages (from shap<1,>=0.40->mlflow) (4.67.1)\n",
      "Requirement already satisfied: slicer==0.0.8 in ./venv/lib/python3.9/site-packages (from shap<1,>=0.40->mlflow) (0.0.8)\n",
      "Requirement already satisfied: numba in ./venv/lib/python3.9/site-packages (from shap<1,>=0.40->mlflow) (0.60.0)\n",
      "Requirement already satisfied: greenlet!=0.4.17 in ./venv/lib/python3.9/site-packages (from sqlalchemy<3,>=1.4.0->mlflow) (3.1.1)\n",
      "Requirement already satisfied: smmap<6,>=3.0.1 in ./venv/lib/python3.9/site-packages (from gitdb<5,>=4.0.1->gitpython<4,>=2.1.0->mlflow) (5.0.1)\n",
      "Requirement already satisfied: llvmlite<0.44,>=0.43.0dev0 in ./venv/lib/python3.9/site-packages (from numba->shap<1,>=0.40->mlflow) (0.43.0)\n",
      "Note: you may need to restart the kernel to use updated packages.\n"
     ]
    }
   ],
   "source": [
    "pip install mlflow"
   ]
  },
  {
   "cell_type": "code",
   "execution_count": null,
   "metadata": {},
   "outputs": [],
   "source": []
  },
  {
   "cell_type": "code",
   "execution_count": 20,
   "metadata": {},
   "outputs": [],
   "source": [
    "from dataclasses import dataclass\n",
    "from pathlib import Path\n",
    "\n",
    "\n",
    "@dataclass(frozen=True)\n",
    "class ModelEvaluationConfig:\n",
    "    root_dir: Path\n",
    "    test_data_path: Path\n",
    "    model_path: Path\n",
    "    all_params: dict\n",
    "    metric_file_name: Path\n",
    "    target_column: str\n",
    "    mlflow_uri: str\n"
   ]
  },
  {
   "cell_type": "code",
   "execution_count": 21,
   "metadata": {},
   "outputs": [],
   "source": [
    "from mlProject.constants import *\n",
    "from mlProject.utils.common import read_yaml, create_directories, save_json\n",
    "# from src.mlProject.constants import *\n",
    "# from src.mlProject.utils.common import read_yaml, create_directories, save_json"
   ]
  },
  {
   "cell_type": "code",
   "execution_count": 22,
   "metadata": {},
   "outputs": [],
   "source": [
    "class ConfigurationManager:\n",
    "    def __init__(\n",
    "        self,\n",
    "        config_filepath = CONFIG_FILE_PATH,\n",
    "        params_filepath = PARAMS_FILE_PATH,\n",
    "        schema_filepath = SCHEMA_FILE_PATH):\n",
    "\n",
    "        self.config = read_yaml(config_filepath)\n",
    "        self.params = read_yaml(params_filepath)\n",
    "        self.schema = read_yaml(schema_filepath)\n",
    "\n",
    "        create_directories([self.config.artifacts_root])\n",
    "\n",
    "    \n",
    "    def get_model_evaluation_config(self) -> ModelEvaluationConfig:\n",
    "        config = self.config.model_evaluation\n",
    "        params = self.params.ElasticNet\n",
    "        schema =  self.schema.TARGET_COLUMN\n",
    "\n",
    "        create_directories([config.root_dir])\n",
    "\n",
    "        model_evaluation_config = ModelEvaluationConfig(\n",
    "            root_dir=config.root_dir,\n",
    "            test_data_path=config.test_data_path,\n",
    "            model_path = config.model_path,\n",
    "            all_params=params,\n",
    "            metric_file_name = config.metric_file_name,\n",
    "            target_column = schema.name,\n",
    "            mlflow_uri=\"https://dagshub.com/kaykay7/ml-e2e.mlflow\",\n",
    "           \n",
    "        )\n",
    "\n",
    "        return model_evaluation_config\n"
   ]
  },
  {
   "cell_type": "code",
   "execution_count": 23,
   "metadata": {},
   "outputs": [],
   "source": [
    "import os\n",
    "import pandas as pd\n",
    "from sklearn.metrics import mean_squared_error, mean_absolute_error, r2_score\n",
    "from urllib.parse import urlparse\n",
    "import mlflow\n",
    "import mlflow.sklearn\n",
    "import numpy as np\n",
    "import joblib"
   ]
  },
  {
   "cell_type": "code",
   "execution_count": 24,
   "metadata": {},
   "outputs": [],
   "source": [
    "class ModelEvaluation:\n",
    "    def __init__(self, config: ModelEvaluationConfig):\n",
    "        self.config = config\n",
    "\n",
    "    \n",
    "    def eval_metrics(self,actual, pred):\n",
    "        rmse = np.sqrt(mean_squared_error(actual, pred))\n",
    "        mae = mean_absolute_error(actual, pred)\n",
    "        r2 = r2_score(actual, pred)\n",
    "        return rmse, mae, r2\n",
    "    \n",
    "\n",
    "\n",
    "    def log_into_mlflow(self):\n",
    "\n",
    "        test_data = pd.read_csv(self.config.test_data_path)\n",
    "        model = joblib.load(self.config.model_path)\n",
    "\n",
    "        test_x = test_data.drop([self.config.target_column], axis=1)\n",
    "        test_y = test_data[[self.config.target_column]]\n",
    "\n",
    "\n",
    "        mlflow.set_registry_uri(self.config.mlflow_uri)\n",
    "        tracking_url_type_store = urlparse(mlflow.get_tracking_uri()).scheme\n",
    "\n",
    "\n",
    "        with mlflow.start_run():\n",
    "\n",
    "            predicted_qualities = model.predict(test_x)\n",
    "\n",
    "            (rmse, mae, r2) = self.eval_metrics(test_y, predicted_qualities)\n",
    "            \n",
    "            # Saving metrics as local\n",
    "            scores = {\"rmse\": rmse, \"mae\": mae, \"r2\": r2}\n",
    "            save_json(path=Path(self.config.metric_file_name), data=scores)\n",
    "\n",
    "            mlflow.log_params(self.config.all_params)\n",
    "\n",
    "            mlflow.log_metric(\"rmse\", rmse)\n",
    "            mlflow.log_metric(\"r2\", r2)\n",
    "            mlflow.log_metric(\"mae\", mae)\n",
    "\n",
    "\n",
    "            # Model registry does not work with file store\n",
    "            if tracking_url_type_store != \"file\":\n",
    "\n",
    "                # Register the model\n",
    "                # There are other ways to use the Model Registry, which depends on the use case,\n",
    "                # please refer to the doc for more information:\n",
    "                # https://mlflow.org/docs/latest/model-registry.html#api-workflow\n",
    "                mlflow.sklearn.log_model(model, \"model\", registered_model_name=\"ElasticnetModel\")\n",
    "            else:\n",
    "                mlflow.sklearn.log_model(model, \"model\")\n",
    "\n",
    "    \n"
   ]
  },
  {
   "cell_type": "code",
   "execution_count": 25,
   "metadata": {},
   "outputs": [
    {
     "name": "stdout",
     "output_type": "stream",
     "text": [
      "[2025-01-02 18:46:13,564: INFO: common: yaml file: config/config.yaml loaded successfully]\n",
      "[2025-01-02 18:46:13,566: INFO: common: yaml file: params.yaml loaded successfully]\n",
      "[2025-01-02 18:46:13,569: INFO: common: yaml file: schema.yaml loaded successfully]\n",
      "[2025-01-02 18:46:13,571: INFO: common: created directory at: artifacts]\n",
      "[2025-01-02 18:46:13,572: INFO: common: created directory at: artifacts/model_evaluation]\n",
      "[2025-01-02 18:46:13,764: INFO: common: json file saved at: artifacts/model_evaluation/metrics.json]\n"
     ]
    },
    {
     "name": "stderr",
     "output_type": "stream",
     "text": [
      "Registered model 'ElasticnetModel' already exists. Creating a new version of this model...\n",
      "2025/01/02 18:46:21 INFO mlflow.tracking._model_registry.client: Waiting up to 300 seconds for model version to finish creation.                     Model name: ElasticnetModel, version 2\n",
      "Created version '2' of model 'ElasticnetModel'.\n"
     ]
    }
   ],
   "source": [
    "try:\n",
    "    config = ConfigurationManager()\n",
    "    model_evaluation_config = config.get_model_evaluation_config()\n",
    "    model_evaluation_config = ModelEvaluation(config=model_evaluation_config)\n",
    "    model_evaluation_config.log_into_mlflow()\n",
    "except Exception as e:\n",
    "    raise e"
   ]
  },
  {
   "cell_type": "code",
   "execution_count": null,
   "metadata": {},
   "outputs": [],
   "source": []
  }
 ],
 "metadata": {
  "kernelspec": {
   "display_name": "Python 3 (ipykernel)",
   "language": "python",
   "name": "python3"
  },
  "language_info": {
   "codemirror_mode": {
    "name": "ipython",
    "version": 3
   },
   "file_extension": ".py",
   "mimetype": "text/x-python",
   "name": "python",
   "nbconvert_exporter": "python",
   "pygments_lexer": "ipython3",
   "version": "3.9.5"
  }
 },
 "nbformat": 4,
 "nbformat_minor": 4
}
